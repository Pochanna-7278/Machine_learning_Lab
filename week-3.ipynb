{
 "cells": [
  {
   "cell_type": "code",
   "execution_count": 6,
   "metadata": {},
   "outputs": [
    {
     "data": {
      "text/html": [
       "<div>\n",
       "<style scoped>\n",
       "    .dataframe tbody tr th:only-of-type {\n",
       "        vertical-align: middle;\n",
       "    }\n",
       "\n",
       "    .dataframe tbody tr th {\n",
       "        vertical-align: top;\n",
       "    }\n",
       "\n",
       "    .dataframe thead th {\n",
       "        text-align: right;\n",
       "    }\n",
       "</style>\n",
       "<table border=\"1\" class=\"dataframe\">\n",
       "  <thead>\n",
       "    <tr style=\"text-align: right;\">\n",
       "      <th></th>\n",
       "      <th>TV</th>\n",
       "      <th>Sales</th>\n",
       "    </tr>\n",
       "  </thead>\n",
       "  <tbody>\n",
       "    <tr>\n",
       "      <th>0</th>\n",
       "      <td>230.1</td>\n",
       "      <td>22.1</td>\n",
       "    </tr>\n",
       "    <tr>\n",
       "      <th>1</th>\n",
       "      <td>44.5</td>\n",
       "      <td>10.4</td>\n",
       "    </tr>\n",
       "    <tr>\n",
       "      <th>2</th>\n",
       "      <td>17.2</td>\n",
       "      <td>9.3</td>\n",
       "    </tr>\n",
       "    <tr>\n",
       "      <th>3</th>\n",
       "      <td>151.5</td>\n",
       "      <td>18.5</td>\n",
       "    </tr>\n",
       "    <tr>\n",
       "      <th>4</th>\n",
       "      <td>180.8</td>\n",
       "      <td>12.9</td>\n",
       "    </tr>\n",
       "    <tr>\n",
       "      <th>...</th>\n",
       "      <td>...</td>\n",
       "      <td>...</td>\n",
       "    </tr>\n",
       "    <tr>\n",
       "      <th>195</th>\n",
       "      <td>38.2</td>\n",
       "      <td>7.6</td>\n",
       "    </tr>\n",
       "    <tr>\n",
       "      <th>196</th>\n",
       "      <td>94.2</td>\n",
       "      <td>9.7</td>\n",
       "    </tr>\n",
       "    <tr>\n",
       "      <th>197</th>\n",
       "      <td>177.0</td>\n",
       "      <td>12.8</td>\n",
       "    </tr>\n",
       "    <tr>\n",
       "      <th>198</th>\n",
       "      <td>283.6</td>\n",
       "      <td>25.5</td>\n",
       "    </tr>\n",
       "    <tr>\n",
       "      <th>199</th>\n",
       "      <td>232.1</td>\n",
       "      <td>13.4</td>\n",
       "    </tr>\n",
       "  </tbody>\n",
       "</table>\n",
       "<p>200 rows × 2 columns</p>\n",
       "</div>"
      ],
      "text/plain": [
       "        TV  Sales\n",
       "0    230.1   22.1\n",
       "1     44.5   10.4\n",
       "2     17.2    9.3\n",
       "3    151.5   18.5\n",
       "4    180.8   12.9\n",
       "..     ...    ...\n",
       "195   38.2    7.6\n",
       "196   94.2    9.7\n",
       "197  177.0   12.8\n",
       "198  283.6   25.5\n",
       "199  232.1   13.4\n",
       "\n",
       "[200 rows x 2 columns]"
      ]
     },
     "execution_count": 6,
     "metadata": {},
     "output_type": "execute_result"
    }
   ],
   "source": [
    "import pandas as pd\n",
    "import matplotlib.pyplot as plt\n",
    "import seaborn as sns\n",
    "df=pd.read_csv(\"TvMarketing.csv\")\n",
    "df\n"
   ]
  },
  {
   "cell_type": "code",
   "execution_count": 2,
   "metadata": {},
   "outputs": [
    {
     "data": {
      "text/html": [
       "<div>\n",
       "<style scoped>\n",
       "    .dataframe tbody tr th:only-of-type {\n",
       "        vertical-align: middle;\n",
       "    }\n",
       "\n",
       "    .dataframe tbody tr th {\n",
       "        vertical-align: top;\n",
       "    }\n",
       "\n",
       "    .dataframe thead th {\n",
       "        text-align: right;\n",
       "    }\n",
       "</style>\n",
       "<table border=\"1\" class=\"dataframe\">\n",
       "  <thead>\n",
       "    <tr style=\"text-align: right;\">\n",
       "      <th></th>\n",
       "      <th>TV</th>\n",
       "      <th>Sales</th>\n",
       "    </tr>\n",
       "  </thead>\n",
       "  <tbody>\n",
       "    <tr>\n",
       "      <th>0</th>\n",
       "      <td>230.1</td>\n",
       "      <td>22.1</td>\n",
       "    </tr>\n",
       "    <tr>\n",
       "      <th>1</th>\n",
       "      <td>44.5</td>\n",
       "      <td>10.4</td>\n",
       "    </tr>\n",
       "    <tr>\n",
       "      <th>2</th>\n",
       "      <td>17.2</td>\n",
       "      <td>9.3</td>\n",
       "    </tr>\n",
       "    <tr>\n",
       "      <th>3</th>\n",
       "      <td>151.5</td>\n",
       "      <td>18.5</td>\n",
       "    </tr>\n",
       "    <tr>\n",
       "      <th>4</th>\n",
       "      <td>180.8</td>\n",
       "      <td>12.9</td>\n",
       "    </tr>\n",
       "  </tbody>\n",
       "</table>\n",
       "</div>"
      ],
      "text/plain": [
       "      TV  Sales\n",
       "0  230.1   22.1\n",
       "1   44.5   10.4\n",
       "2   17.2    9.3\n",
       "3  151.5   18.5\n",
       "4  180.8   12.9"
      ]
     },
     "execution_count": 2,
     "metadata": {},
     "output_type": "execute_result"
    }
   ],
   "source": [
    "#1. Import dataset and display first 5 rows\n",
    "df.head()"
   ]
  },
  {
   "cell_type": "code",
   "execution_count": 3,
   "metadata": {},
   "outputs": [
    {
     "data": {
      "text/plain": [
       "TV       float64\n",
       "Sales    float64\n",
       "dtype: object"
      ]
     },
     "execution_count": 3,
     "metadata": {},
     "output_type": "execute_result"
    }
   ],
   "source": [
    "#2. Check column data types\n",
    "df.dtypes"
   ]
  },
  {
   "cell_type": "code",
   "execution_count": 4,
   "metadata": {},
   "outputs": [
    {
     "data": {
      "text/plain": [
       "(200, 2)"
      ]
     },
     "execution_count": 4,
     "metadata": {},
     "output_type": "execute_result"
    }
   ],
   "source": [
    "#3. Check the shape of the Data Frame (rows, columns)\n",
    "df.shape"
   ]
  },
  {
   "cell_type": "code",
   "execution_count": 5,
   "metadata": {},
   "outputs": [
    {
     "data": {
      "text/html": [
       "<div>\n",
       "<style scoped>\n",
       "    .dataframe tbody tr th:only-of-type {\n",
       "        vertical-align: middle;\n",
       "    }\n",
       "\n",
       "    .dataframe tbody tr th {\n",
       "        vertical-align: top;\n",
       "    }\n",
       "\n",
       "    .dataframe thead th {\n",
       "        text-align: right;\n",
       "    }\n",
       "</style>\n",
       "<table border=\"1\" class=\"dataframe\">\n",
       "  <thead>\n",
       "    <tr style=\"text-align: right;\">\n",
       "      <th></th>\n",
       "      <th>TV</th>\n",
       "      <th>Sales</th>\n",
       "    </tr>\n",
       "  </thead>\n",
       "  <tbody>\n",
       "    <tr>\n",
       "      <th>count</th>\n",
       "      <td>200.000000</td>\n",
       "      <td>200.000000</td>\n",
       "    </tr>\n",
       "    <tr>\n",
       "      <th>mean</th>\n",
       "      <td>147.042500</td>\n",
       "      <td>14.022500</td>\n",
       "    </tr>\n",
       "    <tr>\n",
       "      <th>std</th>\n",
       "      <td>85.854236</td>\n",
       "      <td>5.217457</td>\n",
       "    </tr>\n",
       "    <tr>\n",
       "      <th>min</th>\n",
       "      <td>0.700000</td>\n",
       "      <td>1.600000</td>\n",
       "    </tr>\n",
       "    <tr>\n",
       "      <th>25%</th>\n",
       "      <td>74.375000</td>\n",
       "      <td>10.375000</td>\n",
       "    </tr>\n",
       "    <tr>\n",
       "      <th>50%</th>\n",
       "      <td>149.750000</td>\n",
       "      <td>12.900000</td>\n",
       "    </tr>\n",
       "    <tr>\n",
       "      <th>75%</th>\n",
       "      <td>218.825000</td>\n",
       "      <td>17.400000</td>\n",
       "    </tr>\n",
       "    <tr>\n",
       "      <th>max</th>\n",
       "      <td>296.400000</td>\n",
       "      <td>27.000000</td>\n",
       "    </tr>\n",
       "  </tbody>\n",
       "</table>\n",
       "</div>"
      ],
      "text/plain": [
       "               TV       Sales\n",
       "count  200.000000  200.000000\n",
       "mean   147.042500   14.022500\n",
       "std     85.854236    5.217457\n",
       "min      0.700000    1.600000\n",
       "25%     74.375000   10.375000\n",
       "50%    149.750000   12.900000\n",
       "75%    218.825000   17.400000\n",
       "max    296.400000   27.000000"
      ]
     },
     "execution_count": 5,
     "metadata": {},
     "output_type": "execute_result"
    }
   ],
   "source": [
    "#4. Look at summary statistics\n",
    "df.describe()"
   ]
  },
  {
   "cell_type": "code",
   "execution_count": 7,
   "metadata": {},
   "outputs": [
    {
     "data": {
      "image/png": "[encoded data removed]",
      "text/plain": [
       "<Figure size 432x288 with 1 Axes>"
      ]
     },
     "metadata": {
      "needs_background": "light"
     },
     "output_type": "display_data"
    }
   ],
   "source": [
    "#5. Visualize the relationship between the features and the dependent variable using scatterplots\n",
    "plt.scatter(x=df['TV'],y=df[\"Sales\"])\n",
    "\n",
    "plt.show()"
   ]
  },
  {
   "cell_type": "code",
   "execution_count": 8,
   "metadata": {},
   "outputs": [],
   "source": [
    "#6. Prepare X (feature variables) and y (response variable)\n",
    "x=df.drop(columns=\"Sales\")\n",
    "y=df['Sales']"
   ]
  },
  {
   "cell_type": "code",
   "execution_count": 9,
   "metadata": {},
   "outputs": [
    {
     "data": {
      "text/plain": [
       "((140, 1), (140,))"
      ]
     },
     "execution_count": 9,
     "metadata": {},
     "output_type": "execute_result"
    }
   ],
   "source": [
    "#7. Split Data into Training and Testing Sets (70%-Train 30%-Test) - X_train, y_train, X_test, y_test\n",
    "from sklearn.model_selection import train_test_split\n",
    "x_train,x_test,y_train,y_test=train_test_split(x,y,test_size=0.30,random_state=42)\n",
    "x_train.shape,y_train.shape\n"
   ]
  },
  {
   "cell_type": "code",
   "execution_count": 10,
   "metadata": {},
   "outputs": [
    {
     "data": {
      "text/plain": [
       "((140, 1), (140,))"
      ]
     },
     "execution_count": 10,
     "metadata": {},
     "output_type": "execute_result"
    }
   ],
   "source": [
    "#8. Print the shape of train data and test data\n",
    "x_train.shape,y_train.shape"
   ]
  },
  {
   "cell_type": "code",
   "execution_count": 21,
   "metadata": {},
   "outputs": [
    {
     "data": {
      "text/plain": [
       "array([[ 1.30340471],\n",
       "       [ 5.91634024],\n",
       "       [ 9.257702  ],\n",
       "       [13.39263717],\n",
       "       [ 1.00639478],\n",
       "       [13.5968315 ],\n",
       "       [ 0.87181215],\n",
       "       [13.62931696],\n",
       "       [ 8.26457503],\n",
       "       [13.30910312],\n",
       "       [ 9.83779952],\n",
       "       [10.77523713],\n",
       "       [ 5.75391294],\n",
       "       [ 6.28296188],\n",
       "       [ 8.66368213],\n",
       "       [ 4.77006753],\n",
       "       [ 7.86546793],\n",
       "       [ 5.91634024],\n",
       "       [ 4.17604766],\n",
       "       [ 3.28037708],\n",
       "       [13.69892866],\n",
       "       [ 8.9050027 ],\n",
       "       [10.33436301],\n",
       "       [ 5.62861187],\n",
       "       [10.9933538 ],\n",
       "       [ 5.53115549],\n",
       "       [10.51999421],\n",
       "       [ 2.11090047],\n",
       "       [12.66403467],\n",
       "       [ 2.37078416],\n",
       "       [13.88455987],\n",
       "       [ 5.50795158],\n",
       "       [ 0.74187031],\n",
       "       [ 2.17123061],\n",
       "       [ 4.53338774],\n",
       "       [ 7.54989488],\n",
       "       [ 8.38523532],\n",
       "       [11.82869423],\n",
       "       [ 3.35462957],\n",
       "       [ 7.93972042],\n",
       "       [ 6.10661223],\n",
       "       [ 9.98630449],\n",
       "       [ 4.26422249],\n",
       "       [ 7.98612822],\n",
       "       [ 2.64459019],\n",
       "       [10.03271229],\n",
       "       [11.42958714],\n",
       "       [ 3.39175581],\n",
       "       [ 6.34329202],\n",
       "       [ 3.35462957],\n",
       "       [13.6664432 ],\n",
       "       [ 3.81870759],\n",
       "       [ 1.33589017],\n",
       "       [ 6.54748635],\n",
       "       [ 5.25734945],\n",
       "       [ 8.78434242],\n",
       "       [ 8.41308   ],\n",
       "       [13.33230702],\n",
       "       [ 6.90946721],\n",
       "       [ 2.95088169],\n",
       "       [ 5.09956293],\n",
       "       [13.88920065],\n",
       "       [14.30687087],\n",
       "       [10.13945024],\n",
       "       [ 2.29653168],\n",
       "       [ 3.90224163],\n",
       "       [ 2.71884268],\n",
       "       [ 3.21076538],\n",
       "       [ 3.36855191],\n",
       "       [ 3.91616397],\n",
       "       [ 4.50090228],\n",
       "       [ 3.36391113],\n",
       "       [ 9.51294491],\n",
       "       [ 5.78175762],\n",
       "       [ 4.8953686 ],\n",
       "       [12.50160737],\n",
       "       [ 7.46636083],\n",
       "       [ 8.09750694],\n",
       "       [ 6.02307819],\n",
       "       [ 4.29670795],\n",
       "       [ 7.22968104],\n",
       "       [ 1.65610401],\n",
       "       [ 4.98354342],\n",
       "       [11.39246089],\n",
       "       [10.95158677],\n",
       "       [10.05591619],\n",
       "       [ 8.91892504],\n",
       "       [ 4.01826114],\n",
       "       [13.16987972],\n",
       "       [11.32284919],\n",
       "       [ 2.96944481],\n",
       "       [ 4.35703809],\n",
       "       [ 9.40156618],\n",
       "       [14.09803576],\n",
       "       [ 9.97238215],\n",
       "       [ 4.71901895],\n",
       "       [ 6.86305941],\n",
       "       [ 2.18979373],\n",
       "       [ 1.43798734],\n",
       "       [13.25341376],\n",
       "       [ 1.64682245],\n",
       "       [12.78469496],\n",
       "       [ 4.90000938],\n",
       "       [ 1.15025897],\n",
       "       [ 9.73106158],\n",
       "       [ 2.30581324],\n",
       "       [10.30187754],\n",
       "       [ 5.22486399],\n",
       "       [10.1255279 ],\n",
       "       [ 4.71437817],\n",
       "       [ 3.95329021],\n",
       "       [10.39933393],\n",
       "       [ 3.47993063],\n",
       "       [ 8.17640021],\n",
       "       [ 6.49179699],\n",
       "       [13.69892866],\n",
       "       [11.73123785],\n",
       "       [11.03048004],\n",
       "       [ 7.5452541 ],\n",
       "       [ 6.75632146],\n",
       "       [12.43199566],\n",
       "       [ 4.45449448],\n",
       "       [12.4227141 ],\n",
       "       [14.4646574 ],\n",
       "       [ 8.8817988 ],\n",
       "       [ 5.77711684],\n",
       "       [ 8.22280801],\n",
       "       [ 8.0371768 ],\n",
       "       [ 9.35979916],\n",
       "       [ 4.59371788],\n",
       "       [13.62467618],\n",
       "       [ 3.72589198],\n",
       "       [ 4.36167887],\n",
       "       [ 1.22451145],\n",
       "       [ 9.40156618],\n",
       "       [13.3369478 ],\n",
       "       [ 5.02531044],\n",
       "       [ 4.39416433],\n",
       "       [ 6.81201082],\n",
       "       [ 1.4936767 ]])"
      ]
     },
     "execution_count": 21,
     "metadata": {},
     "output_type": "execute_result"
    }
   ],
   "source": [
    "#9. Perform Linear Regression (on train data) without using any library and print the coefficients values\n",
    "import numpy as np\n",
    "df=df.apply(pd.to_numeric,errors='coerce')\n",
    "x = df[['TV']].values  # Feature\n",
    "y = df[['Sales']].values\n",
    "x_train,x_test,y_train,y_test=train_test_split(x,y,test_size=0.30,random_state=42)\n",
    "x_train=x_train.astype(float)\n",
    "y_train=y_train.astype(float)\n",
    "x_mean=np.mean(x_train)\n",
    "y_mean=np.mean(y_train)\n",
    "numerator=np.sum((x_train-x_mean) * (y_train-y_mean))\n",
    "denaminator=np.sum((x_train-x_mean)**2)\n",
    "coef=numerator/denaminator\n",
    "intercept=y_mean-coef*x_train\n",
    "intercept\n"
   ]
  },
  {
   "cell_type": "code",
   "execution_count": 24,
   "metadata": {},
   "outputs": [
    {
     "data": {
      "text/plain": [
       "array([[14.49714286],\n",
       "       [14.49714286],\n",
       "       [14.49714286],\n",
       "       [14.49714286],\n",
       "       [14.49714286],\n",
       "       [14.49714286],\n",
       "       [14.49714286],\n",
       "       [14.49714286],\n",
       "       [14.49714286],\n",
       "       [14.49714286],\n",
       "       [14.49714286],\n",
       "       [14.49714286],\n",
       "       [14.49714286],\n",
       "       [14.49714286],\n",
       "       [14.49714286],\n",
       "       [14.49714286],\n",
       "       [14.49714286],\n",
       "       [14.49714286],\n",
       "       [14.49714286],\n",
       "       [14.49714286],\n",
       "       [14.49714286],\n",
       "       [14.49714286],\n",
       "       [14.49714286],\n",
       "       [14.49714286],\n",
       "       [14.49714286],\n",
       "       [14.49714286],\n",
       "       [14.49714286],\n",
       "       [14.49714286],\n",
       "       [14.49714286],\n",
       "       [14.49714286],\n",
       "       [14.49714286],\n",
       "       [14.49714286],\n",
       "       [14.49714286],\n",
       "       [14.49714286],\n",
       "       [14.49714286],\n",
       "       [14.49714286],\n",
       "       [14.49714286],\n",
       "       [14.49714286],\n",
       "       [14.49714286],\n",
       "       [14.49714286],\n",
       "       [14.49714286],\n",
       "       [14.49714286],\n",
       "       [14.49714286],\n",
       "       [14.49714286],\n",
       "       [14.49714286],\n",
       "       [14.49714286],\n",
       "       [14.49714286],\n",
       "       [14.49714286],\n",
       "       [14.49714286],\n",
       "       [14.49714286],\n",
       "       [14.49714286],\n",
       "       [14.49714286],\n",
       "       [14.49714286],\n",
       "       [14.49714286],\n",
       "       [14.49714286],\n",
       "       [14.49714286],\n",
       "       [14.49714286],\n",
       "       [14.49714286],\n",
       "       [14.49714286],\n",
       "       [14.49714286],\n",
       "       [14.49714286],\n",
       "       [14.49714286],\n",
       "       [14.49714286],\n",
       "       [14.49714286],\n",
       "       [14.49714286],\n",
       "       [14.49714286],\n",
       "       [14.49714286],\n",
       "       [14.49714286],\n",
       "       [14.49714286],\n",
       "       [14.49714286],\n",
       "       [14.49714286],\n",
       "       [14.49714286],\n",
       "       [14.49714286],\n",
       "       [14.49714286],\n",
       "       [14.49714286],\n",
       "       [14.49714286],\n",
       "       [14.49714286],\n",
       "       [14.49714286],\n",
       "       [14.49714286],\n",
       "       [14.49714286],\n",
       "       [14.49714286],\n",
       "       [14.49714286],\n",
       "       [14.49714286],\n",
       "       [14.49714286],\n",
       "       [14.49714286],\n",
       "       [14.49714286],\n",
       "       [14.49714286],\n",
       "       [14.49714286],\n",
       "       [14.49714286],\n",
       "       [14.49714286],\n",
       "       [14.49714286],\n",
       "       [14.49714286],\n",
       "       [14.49714286],\n",
       "       [14.49714286],\n",
       "       [14.49714286],\n",
       "       [14.49714286],\n",
       "       [14.49714286],\n",
       "       [14.49714286],\n",
       "       [14.49714286],\n",
       "       [14.49714286],\n",
       "       [14.49714286],\n",
       "       [14.49714286],\n",
       "       [14.49714286],\n",
       "       [14.49714286],\n",
       "       [14.49714286],\n",
       "       [14.49714286],\n",
       "       [14.49714286],\n",
       "       [14.49714286],\n",
       "       [14.49714286],\n",
       "       [14.49714286],\n",
       "       [14.49714286],\n",
       "       [14.49714286],\n",
       "       [14.49714286],\n",
       "       [14.49714286],\n",
       "       [14.49714286],\n",
       "       [14.49714286],\n",
       "       [14.49714286],\n",
       "       [14.49714286],\n",
       "       [14.49714286],\n",
       "       [14.49714286],\n",
       "       [14.49714286],\n",
       "       [14.49714286],\n",
       "       [14.49714286],\n",
       "       [14.49714286],\n",
       "       [14.49714286],\n",
       "       [14.49714286],\n",
       "       [14.49714286],\n",
       "       [14.49714286],\n",
       "       [14.49714286],\n",
       "       [14.49714286],\n",
       "       [14.49714286],\n",
       "       [14.49714286],\n",
       "       [14.49714286],\n",
       "       [14.49714286],\n",
       "       [14.49714286],\n",
       "       [14.49714286],\n",
       "       [14.49714286],\n",
       "       [14.49714286],\n",
       "       [14.49714286],\n",
       "       [14.49714286]])"
      ]
     },
     "execution_count": 24,
     "metadata": {},
     "output_type": "execute_result"
    }
   ],
   "source": [
    "#10.Create the model using the calculated coefficients and make predictions on the testing set\n",
    "y_pred=intercept+coef*x_train\n",
    "y_pred"
   ]
  },
  {
   "cell_type": "code",
   "execution_count": 26,
   "metadata": {},
   "outputs": [
    {
     "name": "stdout",
     "output_type": "stream",
     "text": [
      "[[0.0464078]]\n",
      "[7.23945983]\n"
     ]
    }
   ],
   "source": [
    "#11.Perform Linear Regression using library(sklearn)\n",
    "from sklearn.linear_model import LinearRegression\n",
    "model=LinearRegression()\n",
    "model.fit(x_train,y_train)\n",
    "y_pred=model.predict(x_test)\n",
    "y_pred\n",
    "print(model.coef_)\n",
    "print(model.intercept_)"
   ]
  },
  {
   "cell_type": "code",
   "execution_count": 27,
   "metadata": {},
   "outputs": [
    {
     "name": "stdout",
     "output_type": "stream",
     "text": [
      "[[0.0464078]]\n",
      "[7.23945983]\n"
     ]
    }
   ],
   "source": [
    "#12.Print the intercept and coefficients\n",
    "print(model.coef_)\n",
    "print(model.intercept_)"
   ]
  },
  {
   "cell_type": "code",
   "execution_count": 28,
   "metadata": {},
   "outputs": [
    {
     "data": {
      "text/plain": [
       "array([[14.81785392],\n",
       "       [16.30754437],\n",
       "       [20.83230507],\n",
       "       [ 7.78243112],\n",
       "       [17.46309864],\n",
       "       [10.72468577],\n",
       "       [17.30067133],\n",
       "       [ 9.55984994],\n",
       "       [17.56055502],\n",
       "       [15.36546598],\n",
       "       [ 8.7013056 ],\n",
       "       [ 9.84757831],\n",
       "       [18.12208943],\n",
       "       [ 7.49006196],\n",
       "       [13.71334823],\n",
       "       [15.13806775],\n",
       "       [ 7.57823679],\n",
       "       [16.40964153],\n",
       "       [10.73396733],\n",
       "       [18.25667206],\n",
       "       [17.89005042],\n",
       "       [10.38590882],\n",
       "       [ 9.00295631],\n",
       "       [18.88317738],\n",
       "       [10.44159818],\n",
       "       [ 9.72227724],\n",
       "       [17.14752559],\n",
       "       [13.70406667],\n",
       "       [11.28622018],\n",
       "       [ 7.62928537],\n",
       "       [16.5117387 ],\n",
       "       [10.45087974],\n",
       "       [16.46997167],\n",
       "       [ 8.02375169],\n",
       "       [20.26612989],\n",
       "       [18.2937983 ],\n",
       "       [ 9.48095667],\n",
       "       [19.94127527],\n",
       "       [12.67845424],\n",
       "       [ 8.51567439],\n",
       "       [12.62276488],\n",
       "       [15.45364081],\n",
       "       [ 9.2396361 ],\n",
       "       [10.1306659 ],\n",
       "       [17.63480751],\n",
       "       [ 9.01223787],\n",
       "       [10.51585066],\n",
       "       [14.07532908],\n",
       "       [12.09371593],\n",
       "       [10.78037513],\n",
       "       [10.86854996],\n",
       "       [15.05453371],\n",
       "       [ 7.64320771],\n",
       "       [ 7.60144069],\n",
       "       [10.78501591],\n",
       "       [13.24462943],\n",
       "       [10.64579251],\n",
       "       [20.68380011],\n",
       "       [ 8.14905275],\n",
       "       [16.40964153]])"
      ]
     },
     "execution_count": 28,
     "metadata": {},
     "output_type": "execute_result"
    }
   ],
   "source": [
    "##13.Make predictions on the testing set - y_pred\n",
    "y_pred=model.predict(x_test)\n",
    "y_pred"
   ]
  },
  {
   "cell_type": "code",
   "execution_count": 31,
   "metadata": {},
   "outputs": [
    {
     "data": {
      "image/png": "[encoded data removed]",
      "text/plain": [
       "<Figure size 432x288 with 1 Axes>"
      ]
     },
     "metadata": {
      "needs_background": "light"
     },
     "output_type": "display_data"
    }
   ],
   "source": [
    "#14.Plot train data and the model\n",
    "y_train_pred=model.predict(x_train)\n",
    "plt.scatter(x_train,y_train)\n",
    "plt.plot(x_train,y_train_pred,color='red')\n",
    "plt.show()"
   ]
  },
  {
   "cell_type": "code",
   "execution_count": 32,
   "metadata": {},
   "outputs": [
    {
     "data": {
      "image/png": "[encoded data removed]",
      "text/plain": [
       "<Figure size 432x288 with 1 Axes>"
      ]
     },
     "metadata": {
      "needs_background": "light"
     },
     "output_type": "display_data"
    }
   ],
   "source": [
    "#15.Plot test data and the model\n",
    "plt.scatter(x_test,y_test)\n",
    "plt.plot(x_test,y_pred,color='red')\n",
    "plt.show()"
   ]
  },
  {
   "cell_type": "code",
   "execution_count": 34,
   "metadata": {},
   "outputs": [
    {
     "name": "stdout",
     "output_type": "stream",
     "text": [
      "8.970991242413614\n"
     ]
    },
    {
     "data": {
      "text/plain": [
       "array([0.67144772])"
      ]
     },
     "execution_count": 34,
     "metadata": {},
     "output_type": "execute_result"
    }
   ],
   "source": [
    "#16.Print Mean Squared Error and R Squared Value\n",
    "mse=np.mean((y_test-y_pred)**2)\n",
    "print(mse)\n",
    "y_mean=np.mean(y_test)\n",
    "numerator=sum((y_test-y_pred)**2)\n",
    "denaminator=sum((y_test-y_mean)**2)\n",
    "r2=1-numerator/denaminator\n",
    "r2"
   ]
  },
  {
   "cell_type": "code",
   "execution_count": 35,
   "metadata": {},
   "outputs": [
    {
     "data": {
      "text/plain": [
       "array([0.66578303])"
      ]
     },
     "execution_count": 35,
     "metadata": {},
     "output_type": "execute_result"
    }
   ],
   "source": [
    "#17.Calculate and print R Squared and Adjusted R Squared values without any library\n",
    "n=len(y_test)\n",
    "p=1\n",
    "adj=1-((1-r2)*(n-1)/(n-p-1))\n",
    "adj"
   ]
  },
  {
   "cell_type": "code",
   "execution_count": null,
   "metadata": {},
   "outputs": [],
   "source": []
  }
 ],
 "metadata": {
  "kernelspec": {
   "display_name": "Python 3",
   "language": "python",
   "name": "python3"
  },
  "language_info": {
   "codemirror_mode": {
    "name": "ipython",
    "version": 3
   },
   "file_extension": ".py",
   "mimetype": "text/x-python",
   "name": "python",
   "nbconvert_exporter": "python",
   "pygments_lexer": "ipython3",
   "version": "3.8.10"
  }
 },
 "nbformat": 4,
 "nbformat_minor": 4
}
