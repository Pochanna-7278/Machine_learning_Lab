{
 "cells": [
  {
   "cell_type": "code",
   "execution_count": 10,
   "metadata": {},
   "outputs": [
    {
     "data": {
      "text/html": [
       "<div>\n",
       "<style scoped>\n",
       "    .dataframe tbody tr th:only-of-type {\n",
       "        vertical-align: middle;\n",
       "    }\n",
       "\n",
       "    .dataframe tbody tr th {\n",
       "        vertical-align: top;\n",
       "    }\n",
       "\n",
       "    .dataframe thead th {\n",
       "        text-align: right;\n",
       "    }\n",
       "</style>\n",
       "<table border=\"1\" class=\"dataframe\">\n",
       "  <thead>\n",
       "    <tr style=\"text-align: right;\">\n",
       "      <th></th>\n",
       "      <th>price</th>\n",
       "      <th>area</th>\n",
       "      <th>bedrooms</th>\n",
       "      <th>bathrooms</th>\n",
       "      <th>stories</th>\n",
       "      <th>mainroad</th>\n",
       "      <th>guestroom</th>\n",
       "      <th>basement</th>\n",
       "      <th>hotwaterheating</th>\n",
       "      <th>airconditioning</th>\n",
       "      <th>parking</th>\n",
       "      <th>prefarea</th>\n",
       "      <th>furnishingstatus</th>\n",
       "    </tr>\n",
       "  </thead>\n",
       "  <tbody>\n",
       "    <tr>\n",
       "      <th>0</th>\n",
       "      <td>13300000</td>\n",
       "      <td>7420</td>\n",
       "      <td>4</td>\n",
       "      <td>2</td>\n",
       "      <td>3</td>\n",
       "      <td>yes</td>\n",
       "      <td>no</td>\n",
       "      <td>no</td>\n",
       "      <td>no</td>\n",
       "      <td>yes</td>\n",
       "      <td>2</td>\n",
       "      <td>yes</td>\n",
       "      <td>furnished</td>\n",
       "    </tr>\n",
       "    <tr>\n",
       "      <th>1</th>\n",
       "      <td>12250000</td>\n",
       "      <td>8960</td>\n",
       "      <td>4</td>\n",
       "      <td>4</td>\n",
       "      <td>4</td>\n",
       "      <td>yes</td>\n",
       "      <td>no</td>\n",
       "      <td>no</td>\n",
       "      <td>no</td>\n",
       "      <td>yes</td>\n",
       "      <td>3</td>\n",
       "      <td>no</td>\n",
       "      <td>furnished</td>\n",
       "    </tr>\n",
       "    <tr>\n",
       "      <th>2</th>\n",
       "      <td>12250000</td>\n",
       "      <td>9960</td>\n",
       "      <td>3</td>\n",
       "      <td>2</td>\n",
       "      <td>2</td>\n",
       "      <td>yes</td>\n",
       "      <td>no</td>\n",
       "      <td>yes</td>\n",
       "      <td>no</td>\n",
       "      <td>no</td>\n",
       "      <td>2</td>\n",
       "      <td>yes</td>\n",
       "      <td>semi-furnished</td>\n",
       "    </tr>\n",
       "    <tr>\n",
       "      <th>3</th>\n",
       "      <td>12215000</td>\n",
       "      <td>7500</td>\n",
       "      <td>4</td>\n",
       "      <td>2</td>\n",
       "      <td>2</td>\n",
       "      <td>yes</td>\n",
       "      <td>no</td>\n",
       "      <td>yes</td>\n",
       "      <td>no</td>\n",
       "      <td>yes</td>\n",
       "      <td>3</td>\n",
       "      <td>yes</td>\n",
       "      <td>furnished</td>\n",
       "    </tr>\n",
       "    <tr>\n",
       "      <th>4</th>\n",
       "      <td>11410000</td>\n",
       "      <td>7420</td>\n",
       "      <td>4</td>\n",
       "      <td>1</td>\n",
       "      <td>2</td>\n",
       "      <td>yes</td>\n",
       "      <td>yes</td>\n",
       "      <td>yes</td>\n",
       "      <td>no</td>\n",
       "      <td>yes</td>\n",
       "      <td>2</td>\n",
       "      <td>no</td>\n",
       "      <td>furnished</td>\n",
       "    </tr>\n",
       "  </tbody>\n",
       "</table>\n",
       "</div>"
      ],
      "text/plain": [
       "      price  area  bedrooms  bathrooms  stories mainroad guestroom basement  \\\n",
       "0  13300000  7420         4          2        3      yes        no       no   \n",
       "1  12250000  8960         4          4        4      yes        no       no   \n",
       "2  12250000  9960         3          2        2      yes        no      yes   \n",
       "3  12215000  7500         4          2        2      yes        no      yes   \n",
       "4  11410000  7420         4          1        2      yes       yes      yes   \n",
       "\n",
       "  hotwaterheating airconditioning  parking prefarea furnishingstatus  \n",
       "0              no             yes        2      yes        furnished  \n",
       "1              no             yes        3       no        furnished  \n",
       "2              no              no        2      yes   semi-furnished  \n",
       "3              no             yes        3      yes        furnished  \n",
       "4              no             yes        2       no        furnished  "
      ]
     },
     "execution_count": 10,
     "metadata": {},
     "output_type": "execute_result"
    }
   ],
   "source": [
    "#1 Import the dataset (Housing.csv) and look at the top five rows\n",
    "import pandas as pd\n",
    "import matplotlib.pyplot as plt\n",
    "import seaborn as sns\n",
    "df=pd.read_csv(\"Housing.csv\")\n",
    "df.head()"
   ]
  },
  {
   "cell_type": "code",
   "execution_count": 9,
   "metadata": {},
   "outputs": [
    {
     "data": {
      "text/plain": [
       "(545, 13)"
      ]
     },
     "execution_count": 9,
     "metadata": {},
     "output_type": "execute_result"
    }
   ],
   "source": [
    "#2 Check the shape of the DataFrame (rows, columns)\n",
    "df.shape"
   ]
  },
  {
   "cell_type": "code",
   "execution_count": 11,
   "metadata": {},
   "outputs": [
    {
     "data": {
      "text/plain": [
       "price                int64\n",
       "area                 int64\n",
       "bedrooms             int64\n",
       "bathrooms            int64\n",
       "stories              int64\n",
       "mainroad            object\n",
       "guestroom           object\n",
       "basement            object\n",
       "hotwaterheating     object\n",
       "airconditioning     object\n",
       "parking              int64\n",
       "prefarea            object\n",
       "furnishingstatus    object\n",
       "dtype: object"
      ]
     },
     "execution_count": 11,
     "metadata": {},
     "output_type": "execute_result"
    }
   ],
   "source": [
    "#3 Look at the data types of the columns\n",
    "df.dtypes"
   ]
  },
  {
   "cell_type": "code",
   "execution_count": 12,
   "metadata": {},
   "outputs": [
    {
     "data": {
      "text/plain": [
       "price               0\n",
       "area                0\n",
       "bedrooms            0\n",
       "bathrooms           0\n",
       "stories             0\n",
       "mainroad            0\n",
       "guestroom           0\n",
       "basement            0\n",
       "hotwaterheating     0\n",
       "airconditioning     0\n",
       "parking             0\n",
       "prefarea            0\n",
       "furnishingstatus    0\n",
       "dtype: int64"
      ]
     },
     "execution_count": 12,
     "metadata": {},
     "output_type": "execute_result"
    }
   ],
   "source": [
    "#4 Check for missing  values if any, replace with appropriate values\n",
    "df.isnull().sum()"
   ]
  },
  {
   "cell_type": "code",
   "execution_count": 13,
   "metadata": {},
   "outputs": [],
   "source": [
    "#5 Prepare  X (independent variables) and y (dependent variable)\n",
    "x=df.drop(columns='price')\n",
    "y=df['price']"
   ]
  },
  {
   "cell_type": "code",
   "execution_count": 16,
   "metadata": {},
   "outputs": [
    {
     "data": {
      "image/png": "[encoded data removed]",
      "text/plain": [
       "<Figure size 432x288 with 1 Axes>"
      ]
     },
     "metadata": {
      "needs_background": "light"
     },
     "output_type": "display_data"
    },
    {
     "data": {
      "image/png": "[encoded data removed]",
      "text/plain": [
       "<Figure size 432x288 with 1 Axes>"
      ]
     },
     "metadata": {
      "needs_background": "light"
     },
     "output_type": "display_data"
    },
    {
     "data": {
      "image/png": "[encoded data removed]",
      "text/plain": [
       "<Figure size 432x288 with 1 Axes>"
      ]
     },
     "metadata": {
      "needs_background": "light"
     },
     "output_type": "display_data"
    },
    {
     "data": {
      "image/png": "[encoded data removed]",
      "text/plain": [
       "<Figure size 432x288 with 1 Axes>"
      ]
     },
     "metadata": {
      "needs_background": "light"
     },
     "output_type": "display_data"
    },
    {
     "data": {
      "image/png": "[encoded data removed]",
      "text/plain": [
       "<Figure size 432x288 with 1 Axes>"
      ]
     },
     "metadata": {
      "needs_background": "light"
     },
     "output_type": "display_data"
    },
    {
     "data": {
      "image/png": "[encoded data removed]",
      "text/plain": [
       "<Figure size 432x288 with 1 Axes>"
      ]
     },
     "metadata": {
      "needs_background": "light"
     },
     "output_type": "display_data"
    },
    {
     "data": {
      "image/png": "[encoded data removed]",
      "text/plain": [
       "<Figure size 432x288 with 1 Axes>"
      ]
     },
     "metadata": {
      "needs_background": "light"
     },
     "output_type": "display_data"
    },
    {
     "data": {
      "image/png": "[encoded data removed]",
      "text/plain": [
       "<Figure size 432x288 with 1 Axes>"
      ]
     },
     "metadata": {
      "needs_background": "light"
     },
     "output_type": "display_data"
    },
    {
     "data": {
      "image/png": "[encoded data removed]",
      "text/plain": [
       "<Figure size 432x288 with 1 Axes>"
      ]
     },
     "metadata": {
      "needs_background": "light"
     },
     "output_type": "display_data"
    },
    {
     "data": {
      "image/png": "[encoded data removed]",
      "text/plain": [
       "<Figure size 432x288 with 1 Axes>"
      ]
     },
     "metadata": {
      "needs_background": "light"
     },
     "output_type": "display_data"
    },
    {
     "data": {
      "image/png": "[encoded data removed]",
      "text/plain": [
       "<Figure size 432x288 with 1 Axes>"
      ]
     },
     "metadata": {
      "needs_background": "light"
     },
     "output_type": "display_data"
    },
    {
     "data": {
      "image/png": "[encoded data removed]",
      "text/plain": [
       "<Figure size 432x288 with 1 Axes>"
      ]
     },
     "metadata": {
      "needs_background": "light"
     },
     "output_type": "display_data"
    }
   ],
   "source": [
    "#6 Visualise the relationship between the independent variables and the depenedent variable using scatterplots\n",
    "for i,col in enumerate(x.columns,1):\n",
    "    plt.scatter(x[col],y=y)\n",
    "    plt.show()"
   ]
  },
  {
   "cell_type": "code",
   "execution_count": 22,
   "metadata": {},
   "outputs": [],
   "source": [
    "#7 Encoding categorical data in X\n",
    "from sklearn.preprocessing import LabelEncoder\n",
    "x=pd.get_dummies(x,drop_first=True)\n",
    "label_encoders={}\n",
    "for i in x.columns:\n",
    "    x[i]=le.fit_transform(x[i])\n",
    "    label_encoder=le\n"
   ]
  },
  {
   "cell_type": "code",
   "execution_count": null,
   "metadata": {},
   "outputs": [],
   "source": [
    "#8  Avoiding the Dummy Variable Trap"
   ]
  },
  {
   "cell_type": "code",
   "execution_count": 26,
   "metadata": {},
   "outputs": [
    {
     "data": {
      "text/html": [
       "<div>\n",
       "<style scoped>\n",
       "    .dataframe tbody tr th:only-of-type {\n",
       "        vertical-align: middle;\n",
       "    }\n",
       "\n",
       "    .dataframe tbody tr th {\n",
       "        vertical-align: top;\n",
       "    }\n",
       "\n",
       "    .dataframe thead th {\n",
       "        text-align: right;\n",
       "    }\n",
       "</style>\n",
       "<table border=\"1\" class=\"dataframe\">\n",
       "  <thead>\n",
       "    <tr style=\"text-align: right;\">\n",
       "      <th></th>\n",
       "      <th>price</th>\n",
       "      <th>area</th>\n",
       "      <th>bedrooms</th>\n",
       "      <th>bathrooms</th>\n",
       "      <th>stories</th>\n",
       "      <th>mainroad</th>\n",
       "      <th>guestroom</th>\n",
       "      <th>basement</th>\n",
       "      <th>hotwaterheating</th>\n",
       "      <th>airconditioning</th>\n",
       "      <th>parking</th>\n",
       "      <th>prefarea</th>\n",
       "      <th>furnishingstatus</th>\n",
       "    </tr>\n",
       "  </thead>\n",
       "  <tbody>\n",
       "    <tr>\n",
       "      <th>0</th>\n",
       "      <td>4.566365</td>\n",
       "      <td>1.046726</td>\n",
       "      <td>1.403419</td>\n",
       "      <td>1.421812</td>\n",
       "      <td>1.378217</td>\n",
       "      <td>yes</td>\n",
       "      <td>no</td>\n",
       "      <td>no</td>\n",
       "      <td>no</td>\n",
       "      <td>yes</td>\n",
       "      <td>1.517692</td>\n",
       "      <td>yes</td>\n",
       "      <td>furnished</td>\n",
       "    </tr>\n",
       "    <tr>\n",
       "      <th>1</th>\n",
       "      <td>4.004484</td>\n",
       "      <td>1.757010</td>\n",
       "      <td>1.403419</td>\n",
       "      <td>5.405809</td>\n",
       "      <td>2.532024</td>\n",
       "      <td>yes</td>\n",
       "      <td>no</td>\n",
       "      <td>no</td>\n",
       "      <td>no</td>\n",
       "      <td>yes</td>\n",
       "      <td>2.679409</td>\n",
       "      <td>no</td>\n",
       "      <td>furnished</td>\n",
       "    </tr>\n",
       "    <tr>\n",
       "      <th>2</th>\n",
       "      <td>4.004484</td>\n",
       "      <td>2.218232</td>\n",
       "      <td>0.047278</td>\n",
       "      <td>1.421812</td>\n",
       "      <td>0.224410</td>\n",
       "      <td>yes</td>\n",
       "      <td>no</td>\n",
       "      <td>yes</td>\n",
       "      <td>no</td>\n",
       "      <td>no</td>\n",
       "      <td>1.517692</td>\n",
       "      <td>yes</td>\n",
       "      <td>semi-furnished</td>\n",
       "    </tr>\n",
       "    <tr>\n",
       "      <th>3</th>\n",
       "      <td>3.985755</td>\n",
       "      <td>1.083624</td>\n",
       "      <td>1.403419</td>\n",
       "      <td>1.421812</td>\n",
       "      <td>0.224410</td>\n",
       "      <td>yes</td>\n",
       "      <td>no</td>\n",
       "      <td>yes</td>\n",
       "      <td>no</td>\n",
       "      <td>yes</td>\n",
       "      <td>2.679409</td>\n",
       "      <td>yes</td>\n",
       "      <td>furnished</td>\n",
       "    </tr>\n",
       "    <tr>\n",
       "      <th>4</th>\n",
       "      <td>3.554979</td>\n",
       "      <td>1.046726</td>\n",
       "      <td>1.403419</td>\n",
       "      <td>-0.570187</td>\n",
       "      <td>0.224410</td>\n",
       "      <td>yes</td>\n",
       "      <td>yes</td>\n",
       "      <td>yes</td>\n",
       "      <td>no</td>\n",
       "      <td>yes</td>\n",
       "      <td>1.517692</td>\n",
       "      <td>no</td>\n",
       "      <td>furnished</td>\n",
       "    </tr>\n",
       "  </tbody>\n",
       "</table>\n",
       "</div>"
      ],
      "text/plain": [
       "      price      area  bedrooms  bathrooms   stories mainroad guestroom  \\\n",
       "0  4.566365  1.046726  1.403419   1.421812  1.378217      yes        no   \n",
       "1  4.004484  1.757010  1.403419   5.405809  2.532024      yes        no   \n",
       "2  4.004484  2.218232  0.047278   1.421812  0.224410      yes        no   \n",
       "3  3.985755  1.083624  1.403419   1.421812  0.224410      yes        no   \n",
       "4  3.554979  1.046726  1.403419  -0.570187  0.224410      yes       yes   \n",
       "\n",
       "  basement hotwaterheating airconditioning   parking prefarea furnishingstatus  \n",
       "0       no              no             yes  1.517692      yes        furnished  \n",
       "1       no              no             yes  2.679409       no        furnished  \n",
       "2      yes              no              no  1.517692      yes   semi-furnished  \n",
       "3      yes              no             yes  2.679409      yes        furnished  \n",
       "4      yes              no             yes  1.517692       no        furnished  "
      ]
     },
     "execution_count": 26,
     "metadata": {},
     "output_type": "execute_result"
    }
   ],
   "source": [
    "#9 Apply feature scaling on numerical variables\n",
    "from sklearn.preprocessing import StandardScaler\n",
    "scaler=StandardScaler()\n",
    "num_col=df.select_dtypes(include='number').columns\n",
    "df[num_col]=scaler.fit_transform(df[num_col])\n",
    "df.head()"
   ]
  },
  {
   "cell_type": "code",
   "execution_count": 28,
   "metadata": {},
   "outputs": [
    {
     "data": {
      "text/plain": [
       "((381, 13), (381,))"
      ]
     },
     "execution_count": 28,
     "metadata": {},
     "output_type": "execute_result"
    }
   ],
   "source": [
    "#10 Split Data into Training and Testing Sets (70%-Train 30%-Test) - X_train, y_train, X_test, y_test\n",
    "from sklearn.model_selection import train_test_split\n",
    "x_train,x_test,y_train,y_test=train_test_split(x,y,test_size=0.30,random_state=42)\n",
    "x_train.shape,y_train.shape"
   ]
  },
  {
   "cell_type": "code",
   "execution_count": 32,
   "metadata": {},
   "outputs": [
    {
     "data": {
      "text/html": [
       "<style>#sk-container-id-2 {color: black;}#sk-container-id-2 pre{padding: 0;}#sk-container-id-2 div.sk-toggleable {background-color: white;}#sk-container-id-2 label.sk-toggleable__label {cursor: pointer;display: block;width: 100%;margin-bottom: 0;padding: 0.3em;box-sizing: border-box;text-align: center;}#sk-container-id-2 label.sk-toggleable__label-arrow:before {content: \"▸\";float: left;margin-right: 0.25em;color: #696969;}#sk-container-id-2 label.sk-toggleable__label-arrow:hover:before {color: black;}#sk-container-id-2 div.sk-estimator:hover label.sk-toggleable__label-arrow:before {color: black;}#sk-container-id-2 div.sk-toggleable__content {max-height: 0;max-width: 0;overflow: hidden;text-align: left;background-color: #f0f8ff;}#sk-container-id-2 div.sk-toggleable__content pre {margin: 0.2em;color: black;border-radius: 0.25em;background-color: #f0f8ff;}#sk-container-id-2 input.sk-toggleable__control:checked~div.sk-toggleable__content {max-height: 200px;max-width: 100%;overflow: auto;}#sk-container-id-2 input.sk-toggleable__control:checked~label.sk-toggleable__label-arrow:before {content: \"▾\";}#sk-container-id-2 div.sk-estimator input.sk-toggleable__control:checked~label.sk-toggleable__label {background-color: #d4ebff;}#sk-container-id-2 div.sk-label input.sk-toggleable__control:checked~label.sk-toggleable__label {background-color: #d4ebff;}#sk-container-id-2 input.sk-hidden--visually {border: 0;clip: rect(1px 1px 1px 1px);clip: rect(1px, 1px, 1px, 1px);height: 1px;margin: -1px;overflow: hidden;padding: 0;position: absolute;width: 1px;}#sk-container-id-2 div.sk-estimator {font-family: monospace;background-color: #f0f8ff;border: 1px dotted black;border-radius: 0.25em;box-sizing: border-box;margin-bottom: 0.5em;}#sk-container-id-2 div.sk-estimator:hover {background-color: #d4ebff;}#sk-container-id-2 div.sk-parallel-item::after {content: \"\";width: 100%;border-bottom: 1px solid gray;flex-grow: 1;}#sk-container-id-2 div.sk-label:hover label.sk-toggleable__label {background-color: #d4ebff;}#sk-container-id-2 div.sk-serial::before {content: \"\";position: absolute;border-left: 1px solid gray;box-sizing: border-box;top: 0;bottom: 0;left: 50%;z-index: 0;}#sk-container-id-2 div.sk-serial {display: flex;flex-direction: column;align-items: center;background-color: white;padding-right: 0.2em;padding-left: 0.2em;position: relative;}#sk-container-id-2 div.sk-item {position: relative;z-index: 1;}#sk-container-id-2 div.sk-parallel {display: flex;align-items: stretch;justify-content: center;background-color: white;position: relative;}#sk-container-id-2 div.sk-item::before, #sk-container-id-2 div.sk-parallel-item::before {content: \"\";position: absolute;border-left: 1px solid gray;box-sizing: border-box;top: 0;bottom: 0;left: 50%;z-index: -1;}#sk-container-id-2 div.sk-parallel-item {display: flex;flex-direction: column;z-index: 1;position: relative;background-color: white;}#sk-container-id-2 div.sk-parallel-item:first-child::after {align-self: flex-end;width: 50%;}#sk-container-id-2 div.sk-parallel-item:last-child::after {align-self: flex-start;width: 50%;}#sk-container-id-2 div.sk-parallel-item:only-child::after {width: 0;}#sk-container-id-2 div.sk-dashed-wrapped {border: 1px dashed gray;margin: 0 0.4em 0.5em 0.4em;box-sizing: border-box;padding-bottom: 0.4em;background-color: white;}#sk-container-id-2 div.sk-label label {font-family: monospace;font-weight: bold;display: inline-block;line-height: 1.2em;}#sk-container-id-2 div.sk-label-container {text-align: center;}#sk-container-id-2 div.sk-container {/* jupyter's `normalize.less` sets `[hidden] { display: none; }` but bootstrap.min.css set `[hidden] { display: none !important; }` so we also need the `!important` here to be able to override the default hidden behavior on the sphinx rendered scikit-learn.org. See: https://github.com/scikit-learn/scikit-learn/issues/21755 */display: inline-block !important;position: relative;}#sk-container-id-2 div.sk-text-repr-fallback {display: none;}</style><div id=\"sk-container-id-2\" class=\"sk-top-container\"><div class=\"sk-text-repr-fallback\"><pre>LinearRegression()</pre><b>In a Jupyter environment, please rerun this cell to show the HTML representation or trust the notebook. <br />On GitHub, the HTML representation is unable to render, please try loading this page with nbviewer.org.</b></div><div class=\"sk-container\" hidden><div class=\"sk-item\"><div class=\"sk-estimator sk-toggleable\"><input class=\"sk-toggleable__control sk-hidden--visually\" id=\"sk-estimator-id-2\" type=\"checkbox\" checked><label for=\"sk-estimator-id-2\" class=\"sk-toggleable__label sk-toggleable__label-arrow\">LinearRegression</label><div class=\"sk-toggleable__content\"><pre>LinearRegression()</pre></div></div></div></div></div>"
      ],
      "text/plain": [
       "LinearRegression()"
      ]
     },
     "execution_count": 32,
     "metadata": {},
     "output_type": "execute_result"
    }
   ],
   "source": [
    "#11 Fitting Multiple Linear Regression to the Training\n",
    "from sklearn.linear_model import LinearRegression\n",
    "model=LinearRegression()\n",
    "model.fit(x_train,y_train)"
   ]
  },
  {
   "cell_type": "code",
   "execution_count": 39,
   "metadata": {},
   "outputs": [
    {
     "data": {
      "text/plain": [
       "array([ 5506458.49958586,  3532736.00072848,  4473600.30621881,\n",
       "        6568400.39311823,  6240788.83877659,  6124837.66555482,\n",
       "        3045955.56492762,  4883477.91210078,  8623820.61374633,\n",
       "        5247580.37603733,  7357672.14850714,  8113937.07570033,\n",
       "        3511829.11221861,  6149357.23818627,  5513923.89683948,\n",
       "        4495410.72048771,  3343187.94871556,  4100414.54024686,\n",
       "        6565565.73608468,  5992308.37268056,  5374077.44308092,\n",
       "        3733466.40624055,  6679836.75430058,  3141534.13183798,\n",
       "        3021709.99133934,  2773088.14149793,  8721674.75606185,\n",
       "        6170542.67761051,  6423028.99649869,  4614630.24689094,\n",
       "        4720926.70537743,  7448403.37457547,  5371631.11286642,\n",
       "        4173104.39265847,  2904529.41579909,  8515021.3766127 ,\n",
       "        4697160.04387441,  5393950.94824746,  5879423.59096338,\n",
       "        5636408.97009287,  2507760.280805  ,  5795005.2720467 ,\n",
       "        3339258.57142286,  4744881.51503017,  7214391.75493604,\n",
       "        5713901.10961803,  5411457.20070712,  7940356.26992846,\n",
       "        7241615.4401948 ,  6212964.2541591 ,  7112312.56440554,\n",
       "        3996705.36199188,  8252460.84932221,  5022891.11252686,\n",
       "        3618701.04474782,  5749287.52464782,  3906078.63739261,\n",
       "        5448572.85071155,  3432713.83202087,  4218568.68732646,\n",
       "        6920006.1581317 ,  3365004.10898906,  3863832.23704107,\n",
       "        5684334.08919622,  6214031.71137119,  3359586.50760882,\n",
       "        3382688.29917438,  4990465.81347977,  4988478.63114213,\n",
       "        5634880.93771587,  3976701.63777866,  7122588.19836492,\n",
       "        3696732.20303446,  5803055.97095702,  4706969.30579161,\n",
       "        5350882.59086847,  5067565.82637722,  4951533.84214712,\n",
       "        3738503.53400023,  3191191.18364041,  2888334.7572279 ,\n",
       "        4115553.91189252,  6116361.2597501 ,  6776784.29417302,\n",
       "        4511125.37062784,  4972510.88904345,  6785677.91072582,\n",
       "        6196101.63297388,  4663126.66608803,  3019187.74948756,\n",
       "        4611408.44502785,  4810621.75675243,  2500532.1272862 ,\n",
       "        3783993.86720543,  6848849.89319408,  5570779.99608942,\n",
       "        5172056.22221272,  3958584.97442067,  3106911.84972393,\n",
       "        6356453.92718225,  3390165.27261263,  4068576.58799545,\n",
       "        4427696.49725748,  4310319.03737335,  4991602.26164823,\n",
       "        3099485.67450068,  3842236.20671717,  3984827.46350697,\n",
       "        4369324.30124437,  7777945.594237  ,  6482673.64031068,\n",
       "        3911700.13909492,  5720304.23057067,  7428622.16713326,\n",
       "        6171097.68239652,  5021926.92144999,  3927499.84714001,\n",
       "        3662103.47189928,  2889203.93299469,  5557200.89367669,\n",
       "        4373450.21452783,  3595074.33233575,  6178917.65776695,\n",
       "        5073470.54662031,  4890626.77096187,  3906078.63739261,\n",
       "        4833875.95252705,  4609108.9414098 ,  5565511.75455689,\n",
       "        5184731.98071049,  4606433.06470271,  6023219.90704755,\n",
       "        2386760.33042693,  5929835.08307849,  6125447.08837723,\n",
       "        4065651.94826952,  4349794.355147  ,  6051713.49503808,\n",
       "        2706940.81102156,  3064620.52977503,  4493788.12253212,\n",
       "        6410300.57514785,  5178854.82415278,  3991135.89190023,\n",
       "        3450868.4434758 ,  3482111.23093622,  5624290.24053989,\n",
       "        3381451.62307308,  2888334.7572279 ,  3779825.91521253,\n",
       "        4979829.93696557,  5899599.43625008,  5391207.63695926,\n",
       "        5903976.80987212,  2819848.15985609,  4801162.48128619,\n",
       "        6505188.04418307,  3268909.2336508 ,  4016984.38388455,\n",
       "        2081588.44337265,  2669706.86651687,  3952429.89699074,\n",
       "        3403928.94450769,  4888145.19737399,  4513459.49505507,\n",
       "        3104436.02214065,  3204590.58827189,  3052194.88155502,\n",
       "        5280003.96430652,  4904785.99598376,  3999364.93178752,\n",
       "        6231545.8099534 ,  4474120.74493343,  3847608.43150112,\n",
       "        5574106.62898804,  3792575.71753102,  4328875.65387154,\n",
       "        2653512.20794569,  4068957.98933007,  7209336.09503025,\n",
       "        5448380.13420739,  6259831.16723148,  5220544.32375332,\n",
       "        3929450.90012384,  4102265.53692686,  6735144.39787349,\n",
       "        5931206.32019238,  3238702.08326511,  5928117.19029295,\n",
       "        2779676.86639842,  3636237.84127766,  3004173.19480949,\n",
       "        6310739.46258924,  2826811.3657887 ,  4677363.27510685,\n",
       "        3492650.37986557,  2587660.49757207,  5495063.98824216,\n",
       "        3171741.28222368,  3072046.70499827,  4682775.9374418 ,\n",
       "        2475370.96366263,  7334207.39720459,  5971827.69515986,\n",
       "        7556232.32287635,  4038973.89333399,  7126043.09463592,\n",
       "        4192802.90269141,  5595944.6304984 ,  3880333.34868266,\n",
       "        5338915.5275156 ,  7061160.31343485,  7838627.87999015,\n",
       "        7471520.96895625,  5357598.81282992,  6505671.12745254,\n",
       "        2713448.75579039,  3462527.46867733,  4502375.55106537,\n",
       "        6397150.1650474 ,  5805069.27351575,  4305949.91312517,\n",
       "        2832522.62799554,  2919650.99828141,  4738463.89294061,\n",
       "        5924562.5406162 ,  3028925.17157211,  7552732.73516729,\n",
       "        3647117.45121694,  3546694.25694427,  5007109.06200575,\n",
       "        3618497.14442574,  3580417.29683194,  3336636.6577107 ,\n",
       "        4233220.03568371,  5116634.32313078,  3549789.1328483 ,\n",
       "        6764534.12702572,  4352313.71611084,  5335845.99415898,\n",
       "        6513363.44203503,  5493042.44172878,  3082670.66008215,\n",
       "        5309884.01288315,  2951347.68028124,  5381288.05629263,\n",
       "        6824893.07344566,  3914257.12792115,  3847902.09232772,\n",
       "        5344856.62621738,  4150697.90520447,  7375859.55139215,\n",
       "        6711521.60444491,  4277636.05940437,  5034523.22636662,\n",
       "        4938592.93175035,  2049199.12623028,  4802355.81115146,\n",
       "        3236067.19626691,  4536648.04379505,  4260836.7798217 ,\n",
       "        5023500.53395383,  4882984.70284006,  4340363.78780266,\n",
       "        6811634.44266682,  3609782.00021506,  2618488.00380511,\n",
       "        5046082.67920464,  6610331.78715377,  6547168.66368795,\n",
       "        5782857.33159813,  2469391.07331436,  7383953.01859485,\n",
       "        3281113.714249  ,  3073500.25470769,  6651346.31819425,\n",
       "        4065456.90694988,  6384108.63542031,  5318849.68779118,\n",
       "        6196247.28717196,  3758053.18882272,  5515918.52507502,\n",
       "        2948361.06557713,  4979676.83485849,  3056791.82863086,\n",
       "        4084212.86569748,  3811430.29578557,  4117437.14122744,\n",
       "        4375688.75770717,  4129279.75885862,  4217930.62533252,\n",
       "        6160972.3247904 ,  2609317.59843065,  3554791.58622986,\n",
       "        4066487.68305385,  2887438.22176328,  3965530.91305356,\n",
       "        2661609.53723128,  4068269.56796799,  4128702.93323885,\n",
       "        3295677.04909086,  2909230.94351961,  4640094.35715584,\n",
       "        6003705.39503705,  6852227.503926  ,  6397711.49064238,\n",
       "        6022069.95416537,  6167833.58054853,  4575700.10459051,\n",
       "        5456147.87158119,  4967789.11425406,  7176100.42828088,\n",
       "        3951356.82090187, 10766688.84818804,  1977192.33842673,\n",
       "        3022016.44440973,  7182484.69091878,  4166480.64884791,\n",
       "        5688281.19770363,  5170839.80054665,  6430157.55923763,\n",
       "        2527790.48277823,  3281395.92913492,  3984827.46350697,\n",
       "        4187232.19920409,  3089781.6933986 ,  3557268.64720881,\n",
       "        5922239.81514   ,  4565700.6356407 ,  2685901.52508806,\n",
       "        7510464.63575599,  3816237.09821892,  4370061.77729407,\n",
       "        3680082.2832995 ,  5881666.44233992,  4313240.56410144,\n",
       "        6347545.66825387,  4356203.03811269,  4142652.3304522 ,\n",
       "        6268456.38112959,  5727420.82590017,  2360152.88192838,\n",
       "        5732110.64349361,  4253344.07154759,  2097783.10194384,\n",
       "        2501206.71873227,  3099714.24735127,  5263375.08716287,\n",
       "        3600231.12122006,  3227834.30518134,  3050814.9186674 ,\n",
       "        2122944.26556741,  7811519.36903237,  3586194.60740309,\n",
       "        4588570.00688048,  6926931.84969572,  4574382.33886892,\n",
       "        2596830.90294653,  6154555.06347318,  3635471.21825919,\n",
       "        5672716.96230978,  2685901.52508806,  4651735.42946706,\n",
       "        2649130.11041147,  3211154.85256278,  4406575.51304878,\n",
       "        3931257.59017953,  5631703.75613238,  3369848.73635137,\n",
       "        4238180.18908037,  3279482.39051968,  4438051.34780005,\n",
       "        3519308.62657912,  2860334.80628406,  6398250.06328956,\n",
       "        5435879.55190668,  6629011.13231068,  6521256.87099855,\n",
       "        6405475.07910766,  2904529.41579909,  7138571.86256131])"
      ]
     },
     "execution_count": 39,
     "metadata": {},
     "output_type": "execute_result"
    }
   ],
   "source": [
    "#12 Predict on the train set and calculate the error = y_pred - y_train\n",
    "y_pred=model.predict(x_train)\n",
    "y_pred"
   ]
  },
  {
   "cell_type": "code",
   "execution_count": 41,
   "metadata": {},
   "outputs": [
    {
     "name": "stdout",
     "output_type": "stream",
     "text": [
      "126   -3.735415e+05\n",
      "363   -1.772640e+05\n",
      "370    8.336003e+05\n",
      "31    -1.831600e+06\n",
      "113    1.577888e+05\n",
      "           ...     \n",
      "71    -1.259889e+05\n",
      "106    3.612569e+05\n",
      "270    2.065475e+06\n",
      "435   -3.854706e+05\n",
      "102    9.435719e+05\n",
      "Name: price, Length: 381, dtype: float64\n"
     ]
    },
    {
     "data": {
      "image/png": "[encoded data removed]",
      "text/plain": [
       "<Figure size 432x288 with 1 Axes>"
      ]
     },
     "metadata": {
      "needs_background": "light"
     },
     "output_type": "display_data"
    }
   ],
   "source": [
    "#13  Residual plot - plot y_pred in x axis and errors in y axis\n",
    "error=y_pred-y_train\n",
    "print(error)\n",
    "plt.scatter(x=y_pred,y=error)\n",
    "plt.axhline(y=0,color='red',linestyle=\"--\")\n",
    "plt.show()"
   ]
  },
  {
   "cell_type": "code",
   "execution_count": 45,
   "metadata": {},
   "outputs": [
    {
     "name": "stdout",
     "output_type": "stream",
     "text": [
      "[5642698.76976191 7211038.25335587 3170668.20613481 4655804.22167966\n",
      " 3348225.07647525 3877078.10583711 5833367.25225591 6494385.05081926\n",
      " 2649772.73047809 2468602.79904966 9659174.57004647 2839750.78151434\n",
      " 3037922.22777063 3337459.41920899 3805190.97915818 5240939.36409205\n",
      " 2775505.72295722 4935441.73632425 4731541.76056139 3826551.87826789\n",
      " 5668181.29867913 5910803.65433745 2693998.85437365 4668900.986409\n",
      " 5788025.3254743  7628892.68688214 3080168.83942541 5048169.39635279\n",
      " 7384967.84855972 3203210.62538426 6311463.78562281 3209861.66979488\n",
      " 6751681.94176696 4493008.70726985 3741899.3355653  5890253.85467856\n",
      " 5112414.39800932 4114607.59647545 2974012.76925267 4387559.39135764\n",
      " 4983752.29828007 3285952.82091992 7178648.9362135  4170917.22898224\n",
      " 4069471.7568357  4422834.16374857 6813307.45402367 4254213.24731438\n",
      " 4078642.16221016 3436748.49012868 7541553.32222146 2681059.43864801\n",
      " 4743351.7806761  4609589.04574512 3708892.20349784 2549576.09190559\n",
      " 7402781.34165318 2672182.69410016 4518169.87089342 2783069.47651518\n",
      " 4901692.35347539 3412426.61253642 5432340.4047644  4354182.47169319\n",
      " 4917577.9284791  4691543.07255715 7404644.88863681 3335545.88059375\n",
      " 6321731.7512681  6272143.07888524 4557554.09274405 5275980.83636735\n",
      " 4832422.40281763 7752983.43977812 3175845.45376715 5568910.99350568\n",
      " 3981290.11868295 4576376.96710445 4963697.77585185 4241218.00366929\n",
      " 7817620.28194768 4256599.31439313 6741339.58749487 5592231.93966928\n",
      " 2558820.08410185 7183949.20585087 2387169.51728789 3597460.39941451\n",
      " 8109124.13622905 8455969.22295449 3161056.52645951 6127211.37232059\n",
      " 3825098.32855848 3598040.69997101 8014845.582219   4491389.2562935\n",
      " 5264453.46306936 6466195.37083201 5053583.93530514 6245098.74659043\n",
      " 3811246.20368549 6505568.56778815 3506741.18624392 5966905.49980907\n",
      " 5422866.09236032 4798267.37444385 7181811.69048772 6495669.54536643\n",
      " 6743223.59322653 7252364.92858186 7319669.82789255 4868298.0765784\n",
      " 3671558.2471671  3222801.08552052 4516682.88020155 3279482.39051968\n",
      " 3102721.10912424 2244404.20485131 3916491.67617621 3966739.08022725\n",
      " 4030058.1864966  5220376.54069841 3844604.54949728 3819456.57978731\n",
      " 6164208.78848845 2235233.79947685 5753701.4798811  3734312.79340054\n",
      " 7475076.87143832 7048271.47732896 3132657.38729012 5110861.31348939\n",
      " 6915965.37006191 6798065.55989069 3174217.10980696 2364994.96836843\n",
      " 3236316.01618635 5704794.69637217 3392282.71154995 3841146.90100078\n",
      " 2517153.33378076 3818859.01193108 5264475.15521307 3774205.90818135\n",
      " 4381498.58862267 2518844.22479471 6922636.53981297 5406820.41169056\n",
      " 6371020.24179324 7094274.34464413 5307542.91695549 4661623.87769944\n",
      " 3573935.0345762  4055956.82616987 3300845.83055166 7354092.69466252\n",
      " 8137404.98089819 3748398.26240826 7266244.12651128 3657822.3078029\n",
      " 3944353.6093228  7188884.55410599 5503588.02437455 5131511.21598038]\n"
     ]
    }
   ],
   "source": [
    "#14  Predic on the test set\n",
    "y_pred_test=model.predict(x_test)\n",
    "print(y_pred_test)\n"
   ]
  },
  {
   "cell_type": "code",
   "execution_count": 48,
   "metadata": {},
   "outputs": [
    {
     "data": {
      "image/png": "[encoded data removed]",
      "text/plain": [
       "<Figure size 432x288 with 1 Axes>"
      ]
     },
     "metadata": {
      "needs_background": "light"
     },
     "output_type": "display_data"
    }
   ],
   "source": [
    "#15 Residual plot - plot y_pred in x axis and errors in y axis\n",
    "error=y_pred_test-y_test\n",
    "error\n",
    "plt.scatter(y_pred_test,error)\n",
    "plt.axhline(y=0,color='red',linestyle=\"--\")\n",
    "plt.show()"
   ]
  },
  {
   "cell_type": "code",
   "execution_count": 51,
   "metadata": {},
   "outputs": [
    {
     "name": "stdout",
     "output_type": "stream",
     "text": [
      "1560985679907.5923\n"
     ]
    },
    {
     "data": {
      "text/plain": [
       "0.6375188404709602"
      ]
     },
     "execution_count": 51,
     "metadata": {},
     "output_type": "execute_result"
    }
   ],
   "source": [
    "#16 Print Mean Squared Error and R Squared Value\n",
    "import numpy as np\n",
    "y_mean=np.mean(y_test)\n",
    "mse=np.mean((y_test-y_pred_test)**2)\n",
    "print(mse)\n",
    "numerator=sum((y_test-y_pred_test)**2)\n",
    "denaminator=sum((y_test-y_mean)**2)\n",
    "r2=1-numerator/denaminator\n",
    "r2"
   ]
  },
  {
   "cell_type": "code",
   "execution_count": 55,
   "metadata": {},
   "outputs": [
    {
     "name": "stdout",
     "output_type": "stream",
     "text": [
      "0.6375188404709602\n",
      "0.635281302449176\n",
      "0.6330159689240156\n",
      "0.6307223187297907\n",
      "0.6283998175897265\n",
      "0.6260479177010538\n",
      "0.6236660573042453\n",
      "0.6212536602356828\n",
      "0.6188101354630098\n",
      "0.61633487660238\n",
      "0.6138272614167746\n",
      "0.6112866512945165\n",
      "0.6087123907070631\n"
     ]
    }
   ],
   "source": [
    "#17 Check  Adjusted R Squared Value(by selecting different no of input variables insted of all)\n",
    "k=len(x.columns)\n",
    "n=len(y_test)\n",
    "for i in range(k):\n",
    "    adj=1-(((1-r2)*(n-1))/(n-i-1))\n",
    "    print(adj)\n"
   ]
  },
  {
   "cell_type": "code",
   "execution_count": null,
   "metadata": {},
   "outputs": [],
   "source": []
  },
  {
   "cell_type": "code",
   "execution_count": null,
   "metadata": {},
   "outputs": [],
   "source": []
  },
  {
   "cell_type": "code",
   "execution_count": null,
   "metadata": {},
   "outputs": [],
   "source": []
  },
  {
   "cell_type": "code",
   "execution_count": null,
   "metadata": {},
   "outputs": [],
   "source": []
  },
  {
   "cell_type": "code",
   "execution_count": null,
   "metadata": {},
   "outputs": [],
   "source": []
  },
  {
   "cell_type": "code",
   "execution_count": null,
   "metadata": {},
   "outputs": [],
   "source": []
  },
  {
   "cell_type": "code",
   "execution_count": null,
   "metadata": {},
   "outputs": [],
   "source": []
  },
  {
   "cell_type": "code",
   "execution_count": null,
   "metadata": {},
   "outputs": [],
   "source": []
  },
  {
   "cell_type": "code",
   "execution_count": null,
   "metadata": {},
   "outputs": [],
   "source": []
  },
  {
   "cell_type": "code",
   "execution_count": null,
   "metadata": {},
   "outputs": [],
   "source": []
  },
  {
   "cell_type": "code",
   "execution_count": null,
   "metadata": {},
   "outputs": [],
   "source": []
  },
  {
   "cell_type": "code",
   "execution_count": null,
   "metadata": {},
   "outputs": [],
   "source": []
  },
  {
   "cell_type": "code",
   "execution_count": null,
   "metadata": {},
   "outputs": [],
   "source": []
  },
  {
   "cell_type": "code",
   "execution_count": null,
   "metadata": {},
   "outputs": [],
   "source": []
  },
  {
   "cell_type": "code",
   "execution_count": null,
   "metadata": {},
   "outputs": [],
   "source": []
  },
  {
   "cell_type": "code",
   "execution_count": null,
   "metadata": {},
   "outputs": [],
   "source": []
  },
  {
   "cell_type": "code",
   "execution_count": null,
   "metadata": {},
   "outputs": [],
   "source": []
  },
  {
   "cell_type": "code",
   "execution_count": null,
   "metadata": {},
   "outputs": [],
   "source": []
  }
 ],
 "metadata": {
  "kernelspec": {
   "display_name": "Python 3",
   "language": "python",
   "name": "python3"
  },
  "language_info": {
   "codemirror_mode": {
    "name": "ipython",
    "version": 3
   },
   "file_extension": ".py",
   "mimetype": "text/x-python",
   "name": "python",
   "nbconvert_exporter": "python",
   "pygments_lexer": "ipython3",
   "version": "3.8.10"
  }
 },
 "nbformat": 4,
 "nbformat_minor": 4
}
